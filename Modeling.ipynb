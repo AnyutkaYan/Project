{
 "cells": [
  {
   "cell_type": "markdown",
   "id": "21281acf",
   "metadata": {},
   "source": [
    "<center>\n",
    "\n",
    "# Групповой проект\n",
    "</center>\n",
    "\n",
    "Цель - создание модели оценки справедливой стоимости квартир в Екатеринбурге."
   ]
  },
  {
   "cell_type": "markdown",
   "id": "94339fec",
   "metadata": {},
   "source": [
    "## Шаг 5: создание новых признаков"
   ]
  },
  {
   "cell_type": "code",
   "execution_count": 1,
   "id": "a110b441",
   "metadata": {},
   "outputs": [],
   "source": [
    "import pandas as pd\n",
    "import numpy as np\n",
    "import matplotlib.pyplot as plt\n",
    "import seaborn as sns\n",
    "import scipy.stats as sts\n",
    "\n",
    "import warnings\n",
    "warnings.filterwarnings('ignore')"
   ]
  },
  {
   "cell_type": "code",
   "execution_count": 2,
   "id": "eefb67c4",
   "metadata": {},
   "outputs": [],
   "source": [
    "sns.set_theme(style=\"whitegrid\", palette=\"muted\")\n",
    "plt.rcParams['figure.figsize'] = (8, 4)"
   ]
  },
  {
   "cell_type": "code",
   "execution_count": 3,
   "id": "1c5b4be4",
   "metadata": {},
   "outputs": [
    {
     "data": {
      "text/html": [
       "<div>\n",
       "<style scoped>\n",
       "    .dataframe tbody tr th:only-of-type {\n",
       "        vertical-align: middle;\n",
       "    }\n",
       "\n",
       "    .dataframe tbody tr th {\n",
       "        vertical-align: top;\n",
       "    }\n",
       "\n",
       "    .dataframe thead th {\n",
       "        text-align: right;\n",
       "    }\n",
       "</style>\n",
       "<table border=\"1\" class=\"dataframe\">\n",
       "  <thead>\n",
       "    <tr style=\"text-align: right;\">\n",
       "      <th></th>\n",
       "      <th>floor</th>\n",
       "      <th>floors_count</th>\n",
       "      <th>total_meters</th>\n",
       "      <th>price</th>\n",
       "      <th>year_of_construction</th>\n",
       "      <th>living_meters</th>\n",
       "      <th>kitchen_meters</th>\n",
       "      <th>district</th>\n",
       "      <th>underground</th>\n",
       "      <th>owner</th>\n",
       "    </tr>\n",
       "  </thead>\n",
       "  <tbody>\n",
       "    <tr>\n",
       "      <th>0</th>\n",
       "      <td>1</td>\n",
       "      <td>31</td>\n",
       "      <td>30.60</td>\n",
       "      <td>3673800</td>\n",
       "      <td>2023</td>\n",
       "      <td>14.0</td>\n",
       "      <td>7.0</td>\n",
       "      <td>Чкаловский</td>\n",
       "      <td>Ботаническая</td>\n",
       "      <td>False</td>\n",
       "    </tr>\n",
       "    <tr>\n",
       "      <th>1</th>\n",
       "      <td>25</td>\n",
       "      <td>31</td>\n",
       "      <td>35.80</td>\n",
       "      <td>5284000</td>\n",
       "      <td>2023</td>\n",
       "      <td>12.0</td>\n",
       "      <td>12.0</td>\n",
       "      <td>Ленинский</td>\n",
       "      <td>Чкаловская</td>\n",
       "      <td>False</td>\n",
       "    </tr>\n",
       "    <tr>\n",
       "      <th>2</th>\n",
       "      <td>14</td>\n",
       "      <td>25</td>\n",
       "      <td>37.99</td>\n",
       "      <td>4835128</td>\n",
       "      <td>2022</td>\n",
       "      <td>16.0</td>\n",
       "      <td>11.0</td>\n",
       "      <td>Октябрьский</td>\n",
       "      <td>Ботаническая</td>\n",
       "      <td>False</td>\n",
       "    </tr>\n",
       "    <tr>\n",
       "      <th>3</th>\n",
       "      <td>2</td>\n",
       "      <td>19</td>\n",
       "      <td>32.50</td>\n",
       "      <td>4106000</td>\n",
       "      <td>2025</td>\n",
       "      <td>10.0</td>\n",
       "      <td>10.0</td>\n",
       "      <td>Орджоникидзевский</td>\n",
       "      <td>Машиностроителей</td>\n",
       "      <td>False</td>\n",
       "    </tr>\n",
       "    <tr>\n",
       "      <th>4</th>\n",
       "      <td>14</td>\n",
       "      <td>16</td>\n",
       "      <td>42.00</td>\n",
       "      <td>4158074</td>\n",
       "      <td>2022</td>\n",
       "      <td>8.0</td>\n",
       "      <td>21.0</td>\n",
       "      <td>Орджоникидзевский</td>\n",
       "      <td>Проспект Космонавтов</td>\n",
       "      <td>False</td>\n",
       "    </tr>\n",
       "  </tbody>\n",
       "</table>\n",
       "</div>"
      ],
      "text/plain": [
       "   floor  floors_count  total_meters    price  year_of_construction  \\\n",
       "0      1            31         30.60  3673800                  2023   \n",
       "1     25            31         35.80  5284000                  2023   \n",
       "2     14            25         37.99  4835128                  2022   \n",
       "3      2            19         32.50  4106000                  2025   \n",
       "4     14            16         42.00  4158074                  2022   \n",
       "\n",
       "   living_meters  kitchen_meters           district           underground  \\\n",
       "0           14.0             7.0         Чкаловский          Ботаническая   \n",
       "1           12.0            12.0          Ленинский            Чкаловская   \n",
       "2           16.0            11.0        Октябрьский          Ботаническая   \n",
       "3           10.0            10.0  Орджоникидзевский      Машиностроителей   \n",
       "4            8.0            21.0  Орджоникидзевский  Проспект Космонавтов   \n",
       "\n",
       "   owner  \n",
       "0  False  \n",
       "1  False  \n",
       "2  False  \n",
       "3  False  \n",
       "4  False  "
      ]
     },
     "execution_count": 3,
     "metadata": {},
     "output_type": "execute_result"
    }
   ],
   "source": [
    "df = pd.read_excel('output2.xlsx')\n",
    "df.head()"
   ]
  },
  {
   "cell_type": "markdown",
   "id": "e9eabfb1",
   "metadata": {},
   "source": [
    "Во-первых нужно закодировать категориальные признаки."
   ]
  },
  {
   "cell_type": "code",
   "execution_count": 4,
   "id": "e949befc",
   "metadata": {},
   "outputs": [],
   "source": [
    "df['owner'] = df['owner'].replace(False, 0)\n",
    "df['owner'] = df['owner'].replace(True, 1)"
   ]
  },
  {
   "cell_type": "code",
   "execution_count": 5,
   "id": "4d1890dc",
   "metadata": {},
   "outputs": [],
   "source": [
    "df = pd.get_dummies(df, columns=['district', 'underground'])"
   ]
  },
  {
   "cell_type": "markdown",
   "id": "6777b54f",
   "metadata": {},
   "source": [
    "Теперь попробуем создать новые признаки:\n",
    "\n",
    "- Является ли этаж первым?\n",
    "- Является ли этаж последним?"
   ]
  },
  {
   "cell_type": "code",
   "execution_count": 6,
   "id": "488b9e89",
   "metadata": {},
   "outputs": [],
   "source": [
    "df['is_first_floor'] = (df['floor'] == 1).astype(int)\n",
    "df['is_last_floor'] = (df['floor'] == df['floors_count']).astype(int)"
   ]
  },
  {
   "cell_type": "markdown",
   "id": "150741d6",
   "metadata": {},
   "source": [
    "- Дом построен или нет?"
   ]
  },
  {
   "cell_type": "code",
   "execution_count": 7,
   "id": "5c9c53f5",
   "metadata": {},
   "outputs": [],
   "source": [
    "df['is_constructed'] = (df['year_of_construction'] <= 2023).astype(int)"
   ]
  },
  {
   "cell_type": "markdown",
   "id": "e930e2ff",
   "metadata": {},
   "source": [
    "- Какая доля жилой площади от общей?\n",
    "- Какая доля площади кухни от общей?"
   ]
  },
  {
   "cell_type": "code",
   "execution_count": 8,
   "id": "88bcdc4f",
   "metadata": {},
   "outputs": [],
   "source": [
    "df['living_share'] = df['kitchen_meters'] / df['total_meters']\n",
    "df['kitchen_share'] = df['living_meters'] / df['total_meters']"
   ]
  },
  {
   "cell_type": "code",
   "execution_count": 9,
   "id": "d3326633",
   "metadata": {},
   "outputs": [
    {
     "data": {
      "text/html": [
       "<div>\n",
       "<style scoped>\n",
       "    .dataframe tbody tr th:only-of-type {\n",
       "        vertical-align: middle;\n",
       "    }\n",
       "\n",
       "    .dataframe tbody tr th {\n",
       "        vertical-align: top;\n",
       "    }\n",
       "\n",
       "    .dataframe thead th {\n",
       "        text-align: right;\n",
       "    }\n",
       "</style>\n",
       "<table border=\"1\" class=\"dataframe\">\n",
       "  <thead>\n",
       "    <tr style=\"text-align: right;\">\n",
       "      <th></th>\n",
       "      <th>floor</th>\n",
       "      <th>floors_count</th>\n",
       "      <th>total_meters</th>\n",
       "      <th>price</th>\n",
       "      <th>year_of_construction</th>\n",
       "      <th>living_meters</th>\n",
       "      <th>kitchen_meters</th>\n",
       "      <th>owner</th>\n",
       "      <th>district_Автовокзал</th>\n",
       "      <th>district_Верх-Исетский</th>\n",
       "      <th>...</th>\n",
       "      <th>underground_Площадь 1905 года</th>\n",
       "      <th>underground_Проспект Космонавтов</th>\n",
       "      <th>underground_Уралмаш</th>\n",
       "      <th>underground_Уральская</th>\n",
       "      <th>underground_Чкаловская</th>\n",
       "      <th>is_first_floor</th>\n",
       "      <th>is_last_floor</th>\n",
       "      <th>is_constructed</th>\n",
       "      <th>living_share</th>\n",
       "      <th>kitchen_share</th>\n",
       "    </tr>\n",
       "  </thead>\n",
       "  <tbody>\n",
       "    <tr>\n",
       "      <th>0</th>\n",
       "      <td>1</td>\n",
       "      <td>31</td>\n",
       "      <td>30.60</td>\n",
       "      <td>3673800</td>\n",
       "      <td>2023</td>\n",
       "      <td>14.0</td>\n",
       "      <td>7.0</td>\n",
       "      <td>0</td>\n",
       "      <td>0</td>\n",
       "      <td>0</td>\n",
       "      <td>...</td>\n",
       "      <td>0</td>\n",
       "      <td>0</td>\n",
       "      <td>0</td>\n",
       "      <td>0</td>\n",
       "      <td>0</td>\n",
       "      <td>1</td>\n",
       "      <td>0</td>\n",
       "      <td>1</td>\n",
       "      <td>0.228758</td>\n",
       "      <td>0.457516</td>\n",
       "    </tr>\n",
       "    <tr>\n",
       "      <th>1</th>\n",
       "      <td>25</td>\n",
       "      <td>31</td>\n",
       "      <td>35.80</td>\n",
       "      <td>5284000</td>\n",
       "      <td>2023</td>\n",
       "      <td>12.0</td>\n",
       "      <td>12.0</td>\n",
       "      <td>0</td>\n",
       "      <td>0</td>\n",
       "      <td>0</td>\n",
       "      <td>...</td>\n",
       "      <td>0</td>\n",
       "      <td>0</td>\n",
       "      <td>0</td>\n",
       "      <td>0</td>\n",
       "      <td>1</td>\n",
       "      <td>0</td>\n",
       "      <td>0</td>\n",
       "      <td>1</td>\n",
       "      <td>0.335196</td>\n",
       "      <td>0.335196</td>\n",
       "    </tr>\n",
       "    <tr>\n",
       "      <th>2</th>\n",
       "      <td>14</td>\n",
       "      <td>25</td>\n",
       "      <td>37.99</td>\n",
       "      <td>4835128</td>\n",
       "      <td>2022</td>\n",
       "      <td>16.0</td>\n",
       "      <td>11.0</td>\n",
       "      <td>0</td>\n",
       "      <td>0</td>\n",
       "      <td>0</td>\n",
       "      <td>...</td>\n",
       "      <td>0</td>\n",
       "      <td>0</td>\n",
       "      <td>0</td>\n",
       "      <td>0</td>\n",
       "      <td>0</td>\n",
       "      <td>0</td>\n",
       "      <td>0</td>\n",
       "      <td>1</td>\n",
       "      <td>0.289550</td>\n",
       "      <td>0.421163</td>\n",
       "    </tr>\n",
       "    <tr>\n",
       "      <th>3</th>\n",
       "      <td>2</td>\n",
       "      <td>19</td>\n",
       "      <td>32.50</td>\n",
       "      <td>4106000</td>\n",
       "      <td>2025</td>\n",
       "      <td>10.0</td>\n",
       "      <td>10.0</td>\n",
       "      <td>0</td>\n",
       "      <td>0</td>\n",
       "      <td>0</td>\n",
       "      <td>...</td>\n",
       "      <td>0</td>\n",
       "      <td>0</td>\n",
       "      <td>0</td>\n",
       "      <td>0</td>\n",
       "      <td>0</td>\n",
       "      <td>0</td>\n",
       "      <td>0</td>\n",
       "      <td>0</td>\n",
       "      <td>0.307692</td>\n",
       "      <td>0.307692</td>\n",
       "    </tr>\n",
       "    <tr>\n",
       "      <th>4</th>\n",
       "      <td>14</td>\n",
       "      <td>16</td>\n",
       "      <td>42.00</td>\n",
       "      <td>4158074</td>\n",
       "      <td>2022</td>\n",
       "      <td>8.0</td>\n",
       "      <td>21.0</td>\n",
       "      <td>0</td>\n",
       "      <td>0</td>\n",
       "      <td>0</td>\n",
       "      <td>...</td>\n",
       "      <td>0</td>\n",
       "      <td>1</td>\n",
       "      <td>0</td>\n",
       "      <td>0</td>\n",
       "      <td>0</td>\n",
       "      <td>0</td>\n",
       "      <td>0</td>\n",
       "      <td>1</td>\n",
       "      <td>0.500000</td>\n",
       "      <td>0.190476</td>\n",
       "    </tr>\n",
       "  </tbody>\n",
       "</table>\n",
       "<p>5 rows × 35 columns</p>\n",
       "</div>"
      ],
      "text/plain": [
       "   floor  floors_count  total_meters    price  year_of_construction  \\\n",
       "0      1            31         30.60  3673800                  2023   \n",
       "1     25            31         35.80  5284000                  2023   \n",
       "2     14            25         37.99  4835128                  2022   \n",
       "3      2            19         32.50  4106000                  2025   \n",
       "4     14            16         42.00  4158074                  2022   \n",
       "\n",
       "   living_meters  kitchen_meters  owner  district_Автовокзал  \\\n",
       "0           14.0             7.0      0                    0   \n",
       "1           12.0            12.0      0                    0   \n",
       "2           16.0            11.0      0                    0   \n",
       "3           10.0            10.0      0                    0   \n",
       "4            8.0            21.0      0                    0   \n",
       "\n",
       "   district_Верх-Исетский  ...  underground_Площадь 1905 года  \\\n",
       "0                       0  ...                              0   \n",
       "1                       0  ...                              0   \n",
       "2                       0  ...                              0   \n",
       "3                       0  ...                              0   \n",
       "4                       0  ...                              0   \n",
       "\n",
       "   underground_Проспект Космонавтов  underground_Уралмаш  \\\n",
       "0                                 0                    0   \n",
       "1                                 0                    0   \n",
       "2                                 0                    0   \n",
       "3                                 0                    0   \n",
       "4                                 1                    0   \n",
       "\n",
       "   underground_Уральская  underground_Чкаловская  is_first_floor  \\\n",
       "0                      0                       0               1   \n",
       "1                      0                       1               0   \n",
       "2                      0                       0               0   \n",
       "3                      0                       0               0   \n",
       "4                      0                       0               0   \n",
       "\n",
       "   is_last_floor  is_constructed  living_share  kitchen_share  \n",
       "0              0               1      0.228758       0.457516  \n",
       "1              0               1      0.335196       0.335196  \n",
       "2              0               1      0.289550       0.421163  \n",
       "3              0               0      0.307692       0.307692  \n",
       "4              0               1      0.500000       0.190476  \n",
       "\n",
       "[5 rows x 35 columns]"
      ]
     },
     "execution_count": 9,
     "metadata": {},
     "output_type": "execute_result"
    }
   ],
   "source": [
    "df.head()"
   ]
  },
  {
   "cell_type": "markdown",
   "id": "cbcaa30e",
   "metadata": {},
   "source": [
    "## Шаг 6: гипотезы"
   ]
  },
  {
   "cell_type": "markdown",
   "id": "a61f839f",
   "metadata": {},
   "source": [
    "### Гипотеза 1 ###\n",
    "\n",
    "Квартиры, расположенные возле метро, имеют бóльшую этажность, чем квартиры в удалении от метро.\n",
    "\n",
    "$$\n",
    "\\begin{aligned}\n",
    "& H_0: \\mu_{metro} = \\mu_{without} \\\\\n",
    "& H_1: \\mu_{metro} > \\mu_{without}\n",
    "\\end{aligned}\n",
    "$$"
   ]
  },
  {
   "cell_type": "markdown",
   "id": "0a193d97",
   "metadata": {},
   "source": [
    "Разобьем данные на 2 выборки."
   ]
  },
  {
   "cell_type": "code",
   "execution_count": 10,
   "id": "ca710cfd",
   "metadata": {},
   "outputs": [],
   "source": [
    "df_m = df[df['underground_Нет метро'] == 0]\n",
    "df_w = df[df['underground_Нет метро'] == 1]"
   ]
  },
  {
   "cell_type": "markdown",
   "id": "1dbcca66",
   "metadata": {},
   "source": [
    "Для выбора критерия проверки гипотезы сначала посмотрим на распределения выборок."
   ]
  },
  {
   "cell_type": "code",
   "execution_count": 11,
   "id": "e2e5e2ef",
   "metadata": {},
   "outputs": [
    {
     "data": {
      "image/png": "[encoded data removed]",
      "text/plain": [
       "<Figure size 576x288 with 1 Axes>"
      ]
     },
     "metadata": {},
     "output_type": "display_data"
    }
   ],
   "source": [
    "plt.hist(df_m['floors_count'], bins=10, color='blue', alpha=0.5, label='Есть метро')\n",
    "\n",
    "plt.hist(df_w['floors_count'], bins=10, color='red', alpha=0.5, label='Нет метро')\n",
    "\n",
    "plt.xlabel('Этажность')\n",
    "plt.ylabel('Частота')\n",
    "plt.title('Распределение количества этажей')\n",
    "plt.legend()\n",
    "\n",
    "plt.show()"
   ]
  },
  {
   "cell_type": "markdown",
   "id": "6e52b4aa",
   "metadata": {},
   "source": [
    "На нормальное не похоже, будем использовать, непараметрический тест."
   ]
  },
  {
   "cell_type": "code",
   "execution_count": 12,
   "id": "939b74b3",
   "metadata": {},
   "outputs": [
    {
     "name": "stdout",
     "output_type": "stream",
     "text": [
      "p-value: 0.0\n"
     ]
    }
   ],
   "source": [
    "_, p_value = sts.mannwhitneyu(df_m['floors_count'], df_w['floors_count'], alternative='greater')\n",
    "\n",
    "print(\"p-value:\", round(p_value, 3))"
   ]
  },
  {
   "cell_type": "markdown",
   "id": "294f3ac2",
   "metadata": {},
   "source": [
    "Отвергаем нулевую гипотезу. Квартиры, расположенные возле метро, действительно имеют бóльшую этажность, чем квартиры в удалении от метро."
   ]
  },
  {
   "cell_type": "markdown",
   "id": "1f6c2b06",
   "metadata": {},
   "source": [
    "### Гипотеза 2 ###"
   ]
  },
  {
   "cell_type": "markdown",
   "id": "5d553b03",
   "metadata": {},
   "source": [
    "Новые квартиры в домах, построенных после распада СССР, стоят дороже старых.\n",
    "\n",
    "$$\n",
    "\\begin{aligned}\n",
    "& H_0: \\mu_{new} = \\mu_{old} \\\\\n",
    "& H_1: \\mu_{new} > \\mu_{old}\n",
    "\\end{aligned}\n",
    "$$"
   ]
  },
  {
   "cell_type": "markdown",
   "id": "7413c877",
   "metadata": {},
   "source": [
    "Разобьем данные на 2 выборки."
   ]
  },
  {
   "cell_type": "code",
   "execution_count": 13,
   "id": "f75e91ca",
   "metadata": {},
   "outputs": [],
   "source": [
    "df_n = df[df['year_of_construction'] > 1991]\n",
    "df_o = df[df['year_of_construction'] <= 1991]"
   ]
  },
  {
   "cell_type": "markdown",
   "id": "aa38739b",
   "metadata": {},
   "source": [
    "Для выбора критерия проверки гипотезы снова нужно посмотреть на распределения выборок."
   ]
  },
  {
   "cell_type": "code",
   "execution_count": 14,
   "id": "031b67e4",
   "metadata": {},
   "outputs": [
    {
     "data": {
      "image/png": "[encoded data removed]",
      "text/plain": [
       "<Figure size 576x288 with 1 Axes>"
      ]
     },
     "metadata": {},
     "output_type": "display_data"
    }
   ],
   "source": [
    "plt.hist(df_n['price'], bins=10, color='blue', alpha=0.5, label='Новые квартиры')\n",
    "\n",
    "plt.hist(df_o['price'], bins=10, color='red', alpha=0.5, label='Старые квартиры')\n",
    "\n",
    "plt.xlabel('Цена')\n",
    "plt.ylabel('Частота')\n",
    "plt.title('Распределение стоимости квартир')\n",
    "plt.legend()\n",
    "\n",
    "plt.show()"
   ]
  },
  {
   "cell_type": "markdown",
   "id": "425b1863",
   "metadata": {},
   "source": [
    "Нормальное распределение тут тоже не наблюдается. Снова используем u-тест."
   ]
  },
  {
   "cell_type": "code",
   "execution_count": 15,
   "id": "881103c6",
   "metadata": {},
   "outputs": [
    {
     "name": "stdout",
     "output_type": "stream",
     "text": [
      "p-value: 0.0\n"
     ]
    }
   ],
   "source": [
    "_, p_value = sts.mannwhitneyu(df_n['price'], df_o['price'], alternative='greater')\n",
    "\n",
    "print(\"p-value:\", round(p_value, 3))"
   ]
  },
  {
   "cell_type": "markdown",
   "id": "520380cd",
   "metadata": {},
   "source": [
    "Отвергаем нулевую гипотезу. Новые действительно квартиры дороже старых, хотя в Москве вряд ли бы была схожая ситуация."
   ]
  },
  {
   "cell_type": "markdown",
   "id": "8aeb4bbf",
   "metadata": {},
   "source": [
    "### Гипотеза 3 ###\n",
    "\n",
    "Хочется понять, почему результаты второй гипотезы оказались именно такими. Может старые дома расположены в удалении от центральных улиц и метро?\n",
    "\n",
    "Гипотеза: квартиры возле метро построены позднее, чем квартиры в отдалении от него.\n",
    "\n",
    "$$\n",
    "\\begin{aligned}\n",
    "& H_0: \\mu_{metro} = \\mu_{without} \\\\\n",
    "& H_1: \\mu_{metro} > \\mu_{without} \n",
    "\\end{aligned}\n",
    "$$"
   ]
  },
  {
   "cell_type": "markdown",
   "id": "57bf4deb",
   "metadata": {},
   "source": [
    "Снова смотрим на распределение."
   ]
  },
  {
   "cell_type": "code",
   "execution_count": 16,
   "id": "b0853937",
   "metadata": {},
   "outputs": [
    {
     "data": {
      "image/png": "[encoded data removed]",
      "text/plain": [
       "<Figure size 576x288 with 1 Axes>"
      ]
     },
     "metadata": {},
     "output_type": "display_data"
    }
   ],
   "source": [
    "plt.hist(df_m['year_of_construction'], bins=10, color='blue', alpha=0.5, label='Есть метро')\n",
    "\n",
    "plt.hist(df_w['year_of_construction'], bins=10, color='red', alpha=0.5, label='Нет метро')\n",
    "\n",
    "plt.xlabel('Год постройки')\n",
    "plt.ylabel('Частота')\n",
    "plt.title('Распределение годов постройки')\n",
    "plt.legend()\n",
    "\n",
    "plt.show()"
   ]
  },
  {
   "cell_type": "markdown",
   "id": "f2d713c6",
   "metadata": {},
   "source": [
    "Нормальное распределение и не близко. Используем u-тест."
   ]
  },
  {
   "cell_type": "code",
   "execution_count": 17,
   "id": "4a87ee17",
   "metadata": {},
   "outputs": [
    {
     "name": "stdout",
     "output_type": "stream",
     "text": [
      "p-value: 0.0\n"
     ]
    }
   ],
   "source": [
    "_, p_value = sts.mannwhitneyu(df_m['year_of_construction'], df_w['year_of_construction'], alternative='greater')\n",
    "\n",
    "print(\"p-value:\", round(p_value, 3))"
   ]
  },
  {
   "cell_type": "markdown",
   "id": "b7ff518d",
   "metadata": {},
   "source": [
    "Отвергаем нулевую гипотезу. Похоже, изначально метро в Екатеринбурге решили строить в чистом поле."
   ]
  },
  {
   "cell_type": "markdown",
   "id": "cc4178c4",
   "metadata": {},
   "source": [
    "### Гипотеза 4 ###\n",
    "\n",
    "Интересно посмотреть, есть ли влияние того, находится ли квартира на первом этаже, на цену.\n",
    "\n",
    "$$\n",
    "\\begin{aligned}\n",
    "& H_0: \\mu_{first} = \\mu_{other} \\\\\n",
    "& H_1: \\mu_{first} \\neq \\mu_{other}\n",
    "\\end{aligned}\n",
    "$$"
   ]
  },
  {
   "cell_type": "markdown",
   "id": "9414ef9a",
   "metadata": {},
   "source": [
    "В который раз разобьем данные на 2 выборки."
   ]
  },
  {
   "cell_type": "code",
   "execution_count": 18,
   "id": "c84f5d14",
   "metadata": {},
   "outputs": [],
   "source": [
    "df_f = df[df['is_first_floor'] == 1]\n",
    "df_nf = df[df['is_first_floor'] == 0]"
   ]
  },
  {
   "cell_type": "markdown",
   "id": "8a719356",
   "metadata": {},
   "source": [
    "Смотрим на распределения в выборках."
   ]
  },
  {
   "cell_type": "code",
   "execution_count": 19,
   "id": "aafc8b19",
   "metadata": {},
   "outputs": [
    {
     "data": {
      "image/png": "[encoded data removed]",
      "text/plain": [
       "<Figure size 576x288 with 1 Axes>"
      ]
     },
     "metadata": {},
     "output_type": "display_data"
    }
   ],
   "source": [
    "plt.hist(df_f['price'], bins=15, color='blue', alpha=0.5, label='Первый этаж')\n",
    "\n",
    "plt.hist(df_nf['price'], bins=15, color='red', alpha=0.5, label='Не первый этаж')\n",
    "\n",
    "plt.xlabel('Цена')\n",
    "plt.ylabel('Частота')\n",
    "plt.title('Распределение цен')\n",
    "plt.legend()\n",
    "\n",
    "plt.show()"
   ]
  },
  {
   "cell_type": "markdown",
   "id": "ed1b05da",
   "metadata": {},
   "source": [
    "Воспользуемся u-тестом."
   ]
  },
  {
   "cell_type": "code",
   "execution_count": 20,
   "id": "090f1974",
   "metadata": {},
   "outputs": [
    {
     "name": "stdout",
     "output_type": "stream",
     "text": [
      "p-value: 0.0\n"
     ]
    }
   ],
   "source": [
    "_, p_value = sts.mannwhitneyu(df_f['price'], df_nf['price'], alternative='two-sided')\n",
    "\n",
    "print(\"p-value:\", round(p_value, 3))"
   ]
  },
  {
   "cell_type": "markdown",
   "id": "5584fa8c",
   "metadata": {},
   "source": [
    "Отвергаем нулевую гипотезу. Цены квартир на первом этаже отличаются от цен на других этажах."
   ]
  },
  {
   "cell_type": "markdown",
   "id": "c591b3ea",
   "metadata": {},
   "source": [
    "### Гипотеза 5 ###\n",
    "\n",
    "При выборе квартиры важна планировка, например, доля кухни от общей площади. Поставим гипотезу, что в современных домах в квартирах доля кухни от общей площади стала меньше.\n",
    "\n",
    "$$\n",
    "\\begin{aligned}\n",
    "& H_0: \\mu_{new} = \\mu_{old} \\\\\n",
    "& H_1: \\mu_{new} < \\mu_{old}\n",
    "\\end{aligned}\n",
    "$$"
   ]
  },
  {
   "cell_type": "markdown",
   "id": "a0453651",
   "metadata": {},
   "source": [
    "Смотрим на распределения."
   ]
  },
  {
   "cell_type": "code",
   "execution_count": 21,
   "id": "05af4966",
   "metadata": {},
   "outputs": [
    {
     "data": {
      "image/png": "[encoded data removed]",
      "text/plain": [
       "<Figure size 576x288 with 1 Axes>"
      ]
     },
     "metadata": {},
     "output_type": "display_data"
    }
   ],
   "source": [
    "plt.hist(df_n['kitchen_share'], bins=15, color='blue', alpha=0.5, label='Новые квартиры')\n",
    "\n",
    "plt.hist(df_o['kitchen_share'], bins=15, color='red', alpha=0.5, label='Старые квартиры')\n",
    "\n",
    "plt.xlabel('Доля кухни')\n",
    "plt.ylabel('Частота')\n",
    "plt.title('Распределение относительной плозади кухни')\n",
    "plt.legend()\n",
    "\n",
    "plt.show()"
   ]
  },
  {
   "cell_type": "markdown",
   "id": "40bdb1e0",
   "metadata": {},
   "source": [
    "Нормального распределения и тут нет. Снова u-тест."
   ]
  },
  {
   "cell_type": "code",
   "execution_count": 22,
   "id": "2e58d8bf",
   "metadata": {},
   "outputs": [
    {
     "name": "stdout",
     "output_type": "stream",
     "text": [
      "p-value: 0.0\n"
     ]
    }
   ],
   "source": [
    "_, p_value = sts.mannwhitneyu(df_n['kitchen_share'], df_o['kitchen_share'], alternative='less')\n",
    "\n",
    "print(\"p-value:\", round(p_value, 3))"
   ]
  },
  {
   "cell_type": "markdown",
   "id": "e23f9b69",
   "metadata": {},
   "source": [
    "Нулевая гипотеза отвергается. Раньше кухни занималь большую площадь."
   ]
  },
  {
   "cell_type": "markdown",
   "id": "3b79da41",
   "metadata": {},
   "source": [
    "## Шаг 7: машинное обучение"
   ]
  },
  {
   "cell_type": "code",
   "execution_count": 23,
   "id": "451e3596",
   "metadata": {},
   "outputs": [],
   "source": [
    "from sklearn.model_selection import train_test_split, GridSearchCV\n",
    "from sklearn.preprocessing import MinMaxScaler\n",
    "from sklearn.metrics import mean_absolute_percentage_error, make_scorer\n",
    "from sklearn.linear_model import LinearRegression, ElasticNet\n",
    "from sklearn.ensemble import RandomForestRegressor"
   ]
  },
  {
   "cell_type": "markdown",
   "id": "c5553079",
   "metadata": {},
   "source": [
    "Нашей изначальной целью работы было создание модели, которая могла бы с высокой точностью определять рыночную стоимость квартиры, поэтому зависимой переменной будет `price`. \n",
    "\n",
    "Для оценки качества нашей модели логичнее всего будет использовать cреднюю абсолютную процентную ошибку, MAPE, так эта метрика в контексте нашей задачи имеет наибольшее прикладное значение. \n",
    "\n",
    "В первую очередь надо подготовить данные:\n",
    "\n",
    "* разбить данные на обучающую и тестовую выборку;"
   ]
  },
  {
   "cell_type": "code",
   "execution_count": 24,
   "id": "cf40f2b4",
   "metadata": {},
   "outputs": [],
   "source": [
    "train_df, test_df = train_test_split(df, test_size=0.2, random_state=0)"
   ]
  },
  {
   "cell_type": "markdown",
   "id": "b94ba630",
   "metadata": {},
   "source": [
    "* выделить независимые и зависимый признаки;"
   ]
  },
  {
   "cell_type": "code",
   "execution_count": 25,
   "id": "aed529ac",
   "metadata": {},
   "outputs": [],
   "source": [
    "X_train = train_df.drop(columns=['price'])\n",
    "y_train = train_df['price']\n",
    "\n",
    "X_test = test_df.drop(columns=['price'])\n",
    "y_test = test_df['price']"
   ]
  },
  {
   "cell_type": "markdown",
   "id": "045178ea",
   "metadata": {},
   "source": [
    "* нормируем данные;"
   ]
  },
  {
   "cell_type": "code",
   "execution_count": 26,
   "id": "0f906736",
   "metadata": {},
   "outputs": [],
   "source": [
    "columns = X_train.columns\n",
    "\n",
    "scaler = MinMaxScaler()\n",
    "X_train_scaled = pd.DataFrame(scaler.fit_transform(X_train), columns=columns, index=X_train.index)\n",
    "X_test_scaled = pd.DataFrame(scaler.fit_transform(X_test), columns=columns, index=X_test.index)"
   ]
  },
  {
   "cell_type": "markdown",
   "id": "800fde03",
   "metadata": {},
   "source": [
    "### Линейная регрессия ###"
   ]
  },
  {
   "cell_type": "markdown",
   "id": "7d598dcc",
   "metadata": {},
   "source": [
    "Сначала попробуем использовать обычную линейную регрессию."
   ]
  },
  {
   "cell_type": "code",
   "execution_count": 27,
   "id": "474ccb8b",
   "metadata": {},
   "outputs": [
    {
     "data": {
      "text/html": [
       "<style>#sk-container-id-1 {color: black;background-color: white;}#sk-container-id-1 pre{padding: 0;}#sk-container-id-1 div.sk-toggleable {background-color: white;}#sk-container-id-1 label.sk-toggleable__label {cursor: pointer;display: block;width: 100%;margin-bottom: 0;padding: 0.3em;box-sizing: border-box;text-align: center;}#sk-container-id-1 label.sk-toggleable__label-arrow:before {content: \"▸\";float: left;margin-right: 0.25em;color: #696969;}#sk-container-id-1 label.sk-toggleable__label-arrow:hover:before {color: black;}#sk-container-id-1 div.sk-estimator:hover label.sk-toggleable__label-arrow:before {color: black;}#sk-container-id-1 div.sk-toggleable__content {max-height: 0;max-width: 0;overflow: hidden;text-align: left;background-color: #f0f8ff;}#sk-container-id-1 div.sk-toggleable__content pre {margin: 0.2em;color: black;border-radius: 0.25em;background-color: #f0f8ff;}#sk-container-id-1 input.sk-toggleable__control:checked~div.sk-toggleable__content {max-height: 200px;max-width: 100%;overflow: auto;}#sk-container-id-1 input.sk-toggleable__control:checked~label.sk-toggleable__label-arrow:before {content: \"▾\";}#sk-container-id-1 div.sk-estimator input.sk-toggleable__control:checked~label.sk-toggleable__label {background-color: #d4ebff;}#sk-container-id-1 div.sk-label input.sk-toggleable__control:checked~label.sk-toggleable__label {background-color: #d4ebff;}#sk-container-id-1 input.sk-hidden--visually {border: 0;clip: rect(1px 1px 1px 1px);clip: rect(1px, 1px, 1px, 1px);height: 1px;margin: -1px;overflow: hidden;padding: 0;position: absolute;width: 1px;}#sk-container-id-1 div.sk-estimator {font-family: monospace;background-color: #f0f8ff;border: 1px dotted black;border-radius: 0.25em;box-sizing: border-box;margin-bottom: 0.5em;}#sk-container-id-1 div.sk-estimator:hover {background-color: #d4ebff;}#sk-container-id-1 div.sk-parallel-item::after {content: \"\";width: 100%;border-bottom: 1px solid gray;flex-grow: 1;}#sk-container-id-1 div.sk-label:hover label.sk-toggleable__label {background-color: #d4ebff;}#sk-container-id-1 div.sk-serial::before {content: \"\";position: absolute;border-left: 1px solid gray;box-sizing: border-box;top: 0;bottom: 0;left: 50%;z-index: 0;}#sk-container-id-1 div.sk-serial {display: flex;flex-direction: column;align-items: center;background-color: white;padding-right: 0.2em;padding-left: 0.2em;position: relative;}#sk-container-id-1 div.sk-item {position: relative;z-index: 1;}#sk-container-id-1 div.sk-parallel {display: flex;align-items: stretch;justify-content: center;background-color: white;position: relative;}#sk-container-id-1 div.sk-item::before, #sk-container-id-1 div.sk-parallel-item::before {content: \"\";position: absolute;border-left: 1px solid gray;box-sizing: border-box;top: 0;bottom: 0;left: 50%;z-index: -1;}#sk-container-id-1 div.sk-parallel-item {display: flex;flex-direction: column;z-index: 1;position: relative;background-color: white;}#sk-container-id-1 div.sk-parallel-item:first-child::after {align-self: flex-end;width: 50%;}#sk-container-id-1 div.sk-parallel-item:last-child::after {align-self: flex-start;width: 50%;}#sk-container-id-1 div.sk-parallel-item:only-child::after {width: 0;}#sk-container-id-1 div.sk-dashed-wrapped {border: 1px dashed gray;margin: 0 0.4em 0.5em 0.4em;box-sizing: border-box;padding-bottom: 0.4em;background-color: white;}#sk-container-id-1 div.sk-label label {font-family: monospace;font-weight: bold;display: inline-block;line-height: 1.2em;}#sk-container-id-1 div.sk-label-container {text-align: center;}#sk-container-id-1 div.sk-container {/* jupyter's `normalize.less` sets `[hidden] { display: none; }` but bootstrap.min.css set `[hidden] { display: none !important; }` so we also need the `!important` here to be able to override the default hidden behavior on the sphinx rendered scikit-learn.org. See: https://github.com/scikit-learn/scikit-learn/issues/21755 */display: inline-block !important;position: relative;}#sk-container-id-1 div.sk-text-repr-fallback {display: none;}</style><div id=\"sk-container-id-1\" class=\"sk-top-container\"><div class=\"sk-text-repr-fallback\"><pre>LinearRegression()</pre><b>In a Jupyter environment, please rerun this cell to show the HTML representation or trust the notebook. <br />On GitHub, the HTML representation is unable to render, please try loading this page with nbviewer.org.</b></div><div class=\"sk-container\" hidden><div class=\"sk-item\"><div class=\"sk-estimator sk-toggleable\"><input class=\"sk-toggleable__control sk-hidden--visually\" id=\"sk-estimator-id-1\" type=\"checkbox\" checked><label for=\"sk-estimator-id-1\" class=\"sk-toggleable__label sk-toggleable__label-arrow\">LinearRegression</label><div class=\"sk-toggleable__content\"><pre>LinearRegression()</pre></div></div></div></div></div>"
      ],
      "text/plain": [
       "LinearRegression()"
      ]
     },
     "execution_count": 27,
     "metadata": {},
     "output_type": "execute_result"
    }
   ],
   "source": [
    "model = LinearRegression()\n",
    "model.fit(X_train_scaled, y_train)"
   ]
  },
  {
   "cell_type": "code",
   "execution_count": 28,
   "id": "454b340c",
   "metadata": {},
   "outputs": [
    {
     "name": "stdout",
     "output_type": "stream",
     "text": [
      "MAPE: 11.09%\n"
     ]
    }
   ],
   "source": [
    "y_pred = model.predict(X_test_scaled)\n",
    "mape = mean_absolute_percentage_error(y_test, y_pred)\n",
    "\n",
    "print('MAPE: ' + str(round(mape * 100, 2)) + '%')"
   ]
  },
  {
   "cell_type": "markdown",
   "id": "b952cc6f",
   "metadata": {},
   "source": [
    "Уже неплохо, 11% не сильно большая ошибка. Но попробуем подобрать параметры модели. "
   ]
  },
  {
   "cell_type": "markdown",
   "id": "e8414f4b",
   "metadata": {},
   "source": [
    "В GridSearchCV нет встроенной функции оценки MAPE, поэтому сделаем свою."
   ]
  },
  {
   "cell_type": "code",
   "execution_count": 29,
   "id": "14b66cca",
   "metadata": {},
   "outputs": [],
   "source": [
    "scorer = make_scorer(mean_absolute_percentage_error, greater_is_better=False)"
   ]
  },
  {
   "cell_type": "markdown",
   "id": "ed8af80d",
   "metadata": {},
   "source": [
    "Зададим сетку параметров."
   ]
  },
  {
   "cell_type": "code",
   "execution_count": 30,
   "id": "c6681d00",
   "metadata": {},
   "outputs": [],
   "source": [
    "param_grid = {\n",
    "    'alpha': [0.05, 0.1, 0.2, 0.3, 0.4, 0.5],\n",
    "    'l1_ratio': [0.2, 0.5, 0.8],\n",
    "    'fit_intercept': [True, False],\n",
    "    'normalize': [True, False],\n",
    "    'selection': ['cyclic', 'random'],\n",
    "    'max_iter': [500, 1000, 2000, 5000],\n",
    "}"
   ]
  },
  {
   "cell_type": "code",
   "execution_count": 77,
   "id": "cd35d0ec",
   "metadata": {},
   "outputs": [
    {
     "name": "stdout",
     "output_type": "stream",
     "text": [
      "{'alpha': 0.05, 'fit_intercept': True, 'l1_ratio': 0.8, 'max_iter': 5000, 'normalize': False, 'selection': 'random'}\n"
     ]
    }
   ],
   "source": [
    "model = ElasticNet()\n",
    "\n",
    "grid_search = GridSearchCV(model, param_grid, scoring=scorer)\n",
    "grid_search.fit(X_train_scaled, y_train)\n",
    "\n",
    "print(grid_search.best_params_)"
   ]
  },
  {
   "cell_type": "code",
   "execution_count": 31,
   "id": "7153c5d1",
   "metadata": {},
   "outputs": [
    {
     "name": "stdout",
     "output_type": "stream",
     "text": [
      "MAPE: 10.05%\n"
     ]
    }
   ],
   "source": [
    "model = ElasticNet(alpha = 0.05, fit_intercept = True, l1_ratio = 0.8, max_iter = 5000, normalize = False, selection = 'random')\n",
    "model.fit(X_train_scaled, y_train)\n",
    "\n",
    "y_pred = model.predict(X_test_scaled)\n",
    "mape = mean_absolute_percentage_error(y_test, y_pred)\n",
    "\n",
    "print('MAPE: ' + str(round(mape * 100, 2)) + '%')"
   ]
  },
  {
   "cell_type": "markdown",
   "id": "4f3ed3f7",
   "metadata": {},
   "source": [
    "Немного удалось улучшить результаты линейной модели, но лучше попробовать что-то посложнее."
   ]
  },
  {
   "cell_type": "markdown",
   "id": "e850b8a2",
   "metadata": {},
   "source": [
    "### Случайный лес ###\n",
    "\n",
    "Для начала попробуем построить модель без подбора парметров."
   ]
  },
  {
   "cell_type": "code",
   "execution_count": 32,
   "id": "e5a2e0d8",
   "metadata": {},
   "outputs": [
    {
     "data": {
      "text/html": [
       "<style>#sk-container-id-2 {color: black;background-color: white;}#sk-container-id-2 pre{padding: 0;}#sk-container-id-2 div.sk-toggleable {background-color: white;}#sk-container-id-2 label.sk-toggleable__label {cursor: pointer;display: block;width: 100%;margin-bottom: 0;padding: 0.3em;box-sizing: border-box;text-align: center;}#sk-container-id-2 label.sk-toggleable__label-arrow:before {content: \"▸\";float: left;margin-right: 0.25em;color: #696969;}#sk-container-id-2 label.sk-toggleable__label-arrow:hover:before {color: black;}#sk-container-id-2 div.sk-estimator:hover label.sk-toggleable__label-arrow:before {color: black;}#sk-container-id-2 div.sk-toggleable__content {max-height: 0;max-width: 0;overflow: hidden;text-align: left;background-color: #f0f8ff;}#sk-container-id-2 div.sk-toggleable__content pre {margin: 0.2em;color: black;border-radius: 0.25em;background-color: #f0f8ff;}#sk-container-id-2 input.sk-toggleable__control:checked~div.sk-toggleable__content {max-height: 200px;max-width: 100%;overflow: auto;}#sk-container-id-2 input.sk-toggleable__control:checked~label.sk-toggleable__label-arrow:before {content: \"▾\";}#sk-container-id-2 div.sk-estimator input.sk-toggleable__control:checked~label.sk-toggleable__label {background-color: #d4ebff;}#sk-container-id-2 div.sk-label input.sk-toggleable__control:checked~label.sk-toggleable__label {background-color: #d4ebff;}#sk-container-id-2 input.sk-hidden--visually {border: 0;clip: rect(1px 1px 1px 1px);clip: rect(1px, 1px, 1px, 1px);height: 1px;margin: -1px;overflow: hidden;padding: 0;position: absolute;width: 1px;}#sk-container-id-2 div.sk-estimator {font-family: monospace;background-color: #f0f8ff;border: 1px dotted black;border-radius: 0.25em;box-sizing: border-box;margin-bottom: 0.5em;}#sk-container-id-2 div.sk-estimator:hover {background-color: #d4ebff;}#sk-container-id-2 div.sk-parallel-item::after {content: \"\";width: 100%;border-bottom: 1px solid gray;flex-grow: 1;}#sk-container-id-2 div.sk-label:hover label.sk-toggleable__label {background-color: #d4ebff;}#sk-container-id-2 div.sk-serial::before {content: \"\";position: absolute;border-left: 1px solid gray;box-sizing: border-box;top: 0;bottom: 0;left: 50%;z-index: 0;}#sk-container-id-2 div.sk-serial {display: flex;flex-direction: column;align-items: center;background-color: white;padding-right: 0.2em;padding-left: 0.2em;position: relative;}#sk-container-id-2 div.sk-item {position: relative;z-index: 1;}#sk-container-id-2 div.sk-parallel {display: flex;align-items: stretch;justify-content: center;background-color: white;position: relative;}#sk-container-id-2 div.sk-item::before, #sk-container-id-2 div.sk-parallel-item::before {content: \"\";position: absolute;border-left: 1px solid gray;box-sizing: border-box;top: 0;bottom: 0;left: 50%;z-index: -1;}#sk-container-id-2 div.sk-parallel-item {display: flex;flex-direction: column;z-index: 1;position: relative;background-color: white;}#sk-container-id-2 div.sk-parallel-item:first-child::after {align-self: flex-end;width: 50%;}#sk-container-id-2 div.sk-parallel-item:last-child::after {align-self: flex-start;width: 50%;}#sk-container-id-2 div.sk-parallel-item:only-child::after {width: 0;}#sk-container-id-2 div.sk-dashed-wrapped {border: 1px dashed gray;margin: 0 0.4em 0.5em 0.4em;box-sizing: border-box;padding-bottom: 0.4em;background-color: white;}#sk-container-id-2 div.sk-label label {font-family: monospace;font-weight: bold;display: inline-block;line-height: 1.2em;}#sk-container-id-2 div.sk-label-container {text-align: center;}#sk-container-id-2 div.sk-container {/* jupyter's `normalize.less` sets `[hidden] { display: none; }` but bootstrap.min.css set `[hidden] { display: none !important; }` so we also need the `!important` here to be able to override the default hidden behavior on the sphinx rendered scikit-learn.org. See: https://github.com/scikit-learn/scikit-learn/issues/21755 */display: inline-block !important;position: relative;}#sk-container-id-2 div.sk-text-repr-fallback {display: none;}</style><div id=\"sk-container-id-2\" class=\"sk-top-container\"><div class=\"sk-text-repr-fallback\"><pre>RandomForestRegressor()</pre><b>In a Jupyter environment, please rerun this cell to show the HTML representation or trust the notebook. <br />On GitHub, the HTML representation is unable to render, please try loading this page with nbviewer.org.</b></div><div class=\"sk-container\" hidden><div class=\"sk-item\"><div class=\"sk-estimator sk-toggleable\"><input class=\"sk-toggleable__control sk-hidden--visually\" id=\"sk-estimator-id-2\" type=\"checkbox\" checked><label for=\"sk-estimator-id-2\" class=\"sk-toggleable__label sk-toggleable__label-arrow\">RandomForestRegressor</label><div class=\"sk-toggleable__content\"><pre>RandomForestRegressor()</pre></div></div></div></div></div>"
      ],
      "text/plain": [
       "RandomForestRegressor()"
      ]
     },
     "execution_count": 32,
     "metadata": {},
     "output_type": "execute_result"
    }
   ],
   "source": [
    "model = RandomForestRegressor()\n",
    "model.fit(X_train_scaled, y_train)"
   ]
  },
  {
   "cell_type": "code",
   "execution_count": 33,
   "id": "aab4063f",
   "metadata": {},
   "outputs": [
    {
     "name": "stdout",
     "output_type": "stream",
     "text": [
      "MAPE: 8.15%\n"
     ]
    }
   ],
   "source": [
    "y_pred = model.predict(X_test_scaled)\n",
    "mape = mean_absolute_percentage_error(y_test, y_pred)\n",
    "\n",
    "print('MAPE: ' + str(round(mape * 100, 2)) + '%')"
   ]
  },
  {
   "cell_type": "markdown",
   "id": "06bfcf2a",
   "metadata": {},
   "source": [
    "~8% - отличный результат, попробуем улучшить его, подобрав параметры модели по сетке."
   ]
  },
  {
   "cell_type": "code",
   "execution_count": 34,
   "id": "9fcb71ea",
   "metadata": {},
   "outputs": [],
   "source": [
    "param_grid = {\n",
    "    'n_estimators': [100, 200, 300, 400, 500],\n",
    "    'max_depth': [None, 5, 10],\n",
    "    'min_samples_split': [2, 3, 5, 7, 10],\n",
    "    'min_samples_leaf': [1, 2, 4],\n",
    "    'max_features': ['auto', 'sqrt', 'log2']\n",
    "}"
   ]
  },
  {
   "cell_type": "code",
   "execution_count": 83,
   "id": "fba89292",
   "metadata": {},
   "outputs": [
    {
     "name": "stdout",
     "output_type": "stream",
     "text": [
      "{'max_depth': None, 'max_features': 'sqrt', 'min_samples_leaf': 1, 'min_samples_split': 2, 'n_estimators': 500}\n"
     ]
    }
   ],
   "source": [
    "model = RandomForestRegressor()\n",
    "\n",
    "grid_search = GridSearchCV(model, param_grid, scoring=scorer)\n",
    "grid_search.fit(X_train_scaled, y_train)\n",
    "\n",
    "print(grid_search.best_params_)"
   ]
  },
  {
   "cell_type": "code",
   "execution_count": 35,
   "id": "ecfc33b7",
   "metadata": {},
   "outputs": [
    {
     "name": "stdout",
     "output_type": "stream",
     "text": [
      "MAPE: 7.89%\n"
     ]
    }
   ],
   "source": [
    "model = RandomForestRegressor(max_depth = None, max_features = 'sqrt', min_samples_leaf = 1, \n",
    "                              min_samples_split = 2, n_estimators = 500)\n",
    "model.fit(X_train_scaled, y_train)\n",
    "\n",
    "y_pred = model.predict(X_test_scaled)\n",
    "mape = mean_absolute_percentage_error(y_test, y_pred)\n",
    "\n",
    "print('MAPE: ' + str(round(mape * 100, 2)) + '%')"
   ]
  },
  {
   "cell_type": "markdown",
   "id": "920337ee",
   "metadata": {},
   "source": [
    "При помощи подбора параметров по сетке удалось добиться улучшения результатов."
   ]
  },
  {
   "cell_type": "markdown",
   "id": "61962258",
   "metadata": {},
   "source": [
    "### Выводы ###\n",
    "\n",
    "Итоговая средняя абсолютная процентная ошибка на уровне 7.89% - это отличный результат. Надо принимать во внимание тот факт, что данные о квартирах в действительности неполные, например, мы никак не учитываем состояние квартиры, ремонт, благоустройство дворовой территории и другие факторы, информацию о которых проблематично собрать в большом объёме.\n",
    "\n",
    "Множно сказать, что модель хорошо подходит для быстрой и приблизительной оценки стоимости квартиры."
   ]
  }
 ],
 "metadata": {
  "kernelspec": {
   "display_name": "Python 3 (ipykernel)",
   "language": "python",
   "name": "python3"
  },
  "language_info": {
   "codemirror_mode": {
    "name": "ipython",
    "version": 3
   },
   "file_extension": ".py",
   "mimetype": "text/x-python",
   "name": "python",
   "nbconvert_exporter": "python",
   "pygments_lexer": "ipython3",
   "version": "3.9.12"
  }
 },
 "nbformat": 4,
 "nbformat_minor": 5
}
